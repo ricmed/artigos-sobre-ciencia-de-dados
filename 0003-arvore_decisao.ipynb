{
 "cells": [
  {
   "metadata": {},
   "cell_type": "markdown",
   "source": [
    "### Árvores de Decisão: Classificação e Regressão\n",
    "\n",
    "As **árvores de decisão** são algoritmos de aprendizado supervisionado que podem ser usados tanto para **classificação** quanto para **regressão**. Elas funcionam de maneira hierárquica, dividindo os dados em subconjuntos com base em critérios que maximizam a separação entre as classes ou valores previstos. Cada divisão nos dados resulta em um nó na árvore, e os nós folhas representam as predições finais.\n",
    "\n",
    "### Como Funciona uma Árvore de Decisão\n",
    "\n",
    "O algoritmo cria uma árvore binária que divide os dados com base em perguntas de \"sim ou não\" (ou condições que podem ser numéricas ou categóricas). O objetivo é dividir os dados de forma que, ao final, cada subconjunto tenha uma maior homogeneidade possível, ou seja, que pertençam a uma mesma classe (para classificação) ou que os valores sejam o mais próximos possível (para regressão).\n",
    "\n",
    "#### Classificação\n",
    "\n",
    "No caso de **classificação**, o objetivo é separar os dados em grupos distintos com base nas classes disponíveis. Por exemplo, ao classificar se um e-mail é \"spam\" ou \"não spam\", a árvore de decisão usará características do e-mail (tamanho, palavras-chave, etc.) para fazer divisões sucessivas até chegar a uma classificação final.\n",
    "\n",
    "#### Regressão\n",
    "\n",
    "Já na **regressão**, o algoritmo tenta prever um valor numérico contínuo. Por exemplo, podemos prever o preço de uma casa com base em suas características (tamanho, localização, etc.). A árvore de decisão dividirá o conjunto de dados para minimizar a diferença entre o valor real e o valor previsto.\n",
    "\n",
    "### Construção da Árvore de Decisão\n",
    "\n",
    "O processo de construção da árvore envolve o seguinte:\n",
    "\n",
    "1. **Seleção do Melhor Atributo**: Para cada nó, o algoritmo seleciona o melhor atributo para dividir os dados. O critério de escolha varia entre classificação e regressão.\n",
    "\n",
    "2. **Cálculo da Impureza ou Erro**: \n",
    "    - Na **classificação**, o algoritmo calcula a impureza de um nó usando métricas como a **Entropia** ou o **Índice de Gini**.\n",
    "    - Na **regressão**, ele tenta minimizar o **Erro Quadrático Médio (MSE)** ou outro erro associado à variância dos dados.\n",
    "\n",
    "3. **Divisão Recursiva**: O processo é repetido recursivamente até que os dados estejam completamente separados ou até atingir um critério de parada, como uma profundidade máxima da árvore ou um número mínimo de amostras por nó.\n",
    "\n",
    "4. **Poda**: Para evitar o **overfitting** (quando o modelo se ajusta demais aos dados de treino e perde capacidade de generalização), pode-se utilizar métodos de poda. A poda reduz o tamanho da árvore cortando nós que não agregam valor à predição.\n",
    "\n",
    "### Métricas de Avaliação\n",
    "\n",
    "#### Para Classificação:\n",
    "\n",
    "- **Acurácia**: Proporção de predições corretas sobre o total de predições.\n",
    "  \n",
    "$$ \\text{Acurácia} = \\frac{\\text{Número de predições corretas}}{\\text{Número total de exemplos}} $$\n",
    "  \n",
    "- **Precisão**: Proporção de verdadeiros positivos sobre o total de predições positivas feitas pelo modelo.\n",
    "  \n",
    "$$ \\text{Precisão} = \\frac{\\text{Verdadeiros Positivos}}{\\text{Verdadeiros Positivos + Falsos Positivos}} $$\n",
    "  \n",
    "- **Revocação (Recall)**: Proporção de verdadeiros positivos em relação ao total de exemplos que realmente pertencem àquela classe.\n",
    "  \n",
    "$$ \\text{Revocação} = \\frac{\\text{Verdadeiros Positivos}}{\\text{Verdadeiros Positivos + Falsos Negativos}} $$\n",
    "  \n",
    "- **F1-Score**: Média harmônica entre a precisão e a revocação. É útil quando há um desbalanceamento nas classes.\n",
    "  \n",
    "$$ F1 = 2 \\times \\frac{\\text{Precisão} \\times \\text{Revocação}}{\\text{Precisão} + \\text{Revocação}} $$\n",
    "\n",
    "#### Para Regressão:\n",
    "\n",
    "- **Erro Médio Absoluto (MAE)**: Média das diferenças absolutas entre os valores preditos e os valores reais.\n",
    "  \n",
    "$$ MAE = \\frac{1}{n} \\sum_{i=1}^{n} |y_i - \\hat{y}_i| $$\n",
    "\n",
    "- **Erro Quadrático Médio (MSE)**: Média das diferenças quadráticas entre os valores preditos e os valores reais.\n",
    "  \n",
    "$$ MSE = \\frac{1}{n} \\sum_{i=1}^{n} (y_i - \\hat{y}_i)^2 $$\n",
    "\n",
    "- **R-quadrado ($R^2$)**: Medida que indica o quão bem os valores preditos se ajustam aos valores reais.\n",
    "\n",
    "$$ R^2 = 1 - \\frac{\\sum_{i=1}^{n}(y_i - \\hat{y}_i)^2}{\\sum_{i=1}^{n}(y_i - \\bar{y})^2} $$\n",
    "\n",
    "### O Parâmetro `ccp_alpha` (Poda de Custo Complexo)\n",
    "\n",
    "O parâmetro `ccp_alpha` é usado para controlar a **poda de custo complexo** em uma árvore de decisão. A poda é essencial para reduzir o overfitting em árvores muito profundas. O `ccp_alpha` permite especificar um valor de regularização que penaliza a complexidade da árvore, ou seja, árvores mais simples (com menos nós) são preferidas se o aumento de precisão for pequeno.\n",
    "\n",
    "A fórmula usada para calcular a penalidade é dada por:\n",
    "\n",
    "$$ R_\\alpha(T) = R(T) + \\alpha \\cdot \\left|T\\right| $$\n",
    "\n",
    "Onde:\n",
    "\n",
    "- $R(T)$ é o erro da árvore $T$.\n",
    "- $\\alpha$ é o parâmetro de regularização (`ccp_alpha`).\n",
    "- $\\left|T\\right|$ é o número de nós na árvore.\n",
    "\n",
    "Quanto maior o valor de `ccp_alpha`, mais agressiva será a poda da árvore. Com um valor `ccp_alpha = 0`, a árvore será a mais complexa possível.\n",
    "\n",
    "### Exemplo Prático em Python\n",
    "\n",
    "Aqui está um exemplo de como usar árvores de decisão para classificação e regressão, e como aplicar a poda com o parâmetro `ccp_alpha`:\n"
   ],
   "id": "27e51520570be8f1"
  },
  {
   "metadata": {
    "ExecuteTime": {
     "end_time": "2024-09-07T20:02:57.646243Z",
     "start_time": "2024-09-07T20:02:57.632559Z"
    }
   },
   "cell_type": "code",
   "source": [
    "# Importar bibliotecas\n",
    "import pandas as pd\n",
    "\n",
    "from sklearn.datasets import fetch_openml\n",
    "from sklearn.datasets import fetch_california_housing\n",
    "from sklearn.model_selection import train_test_split\n",
    "from sklearn.tree import DecisionTreeClassifier\n",
    "from sklearn.tree import DecisionTreeRegressor\n",
    "from sklearn.metrics import accuracy_score\n",
    "from sklearn.metrics import confusion_matrix\n",
    "from sklearn.metrics import ConfusionMatrixDisplay\n",
    "from sklearn.metrics import mean_squared_error\n",
    "from sklearn.impute import KNNImputer\n",
    "\n",
    "import matplotlib.pyplot as plt"
   ],
   "id": "e8089535c459729f",
   "outputs": [],
   "execution_count": 8
  },
  {
   "metadata": {},
   "cell_type": "markdown",
   "source": "### Classificação",
   "id": "6e2f5b3f5c20f19b"
  },
  {
   "metadata": {
    "ExecuteTime": {
     "end_time": "2024-09-07T19:59:40.263986Z",
     "start_time": "2024-09-07T19:59:40.215595Z"
    }
   },
   "cell_type": "code",
   "source": [
    "# Carregar dados do Titanic do openml\n",
    "dados = fetch_openml(data_id=40945)\n",
    "titanic = pd.DataFrame(dados.data)\n",
    "titanic['survived'] = dados.target\n",
    "titanic.sample(5)"
   ],
   "id": "c499307829dd4995",
   "outputs": [
    {
     "data": {
      "text/plain": [
       "      pclass                                          name     sex   age  \\\n",
       "759        3  de Messemaeker, Mrs. Guillaume Joseph (Emma)  female  36.0   \n",
       "1304       3                          Zabour, Miss. Hileni  female  14.5   \n",
       "626        3        Andersson, Miss. Ida Augusta Margareta  female  38.0   \n",
       "5          1                           Anderson, Mr. Harry    male  48.0   \n",
       "617        3                              Ali, Mr. William    male  25.0   \n",
       "\n",
       "      sibsp  parch              ticket     fare cabin embarked boat   body  \\\n",
       "759       1      0              345572  17.4000   NaN        S   13    NaN   \n",
       "1304      1      0                2665  14.4542   NaN        C  NaN  328.0   \n",
       "626       4      2              347091   7.7750   NaN        S  NaN    NaN   \n",
       "5         0      0               19952  26.5500   E12        S    3    NaN   \n",
       "617       0      0  SOTON/O.Q. 3101312   7.0500   NaN        S  NaN   79.0   \n",
       "\n",
       "                         home.dest survived  \n",
       "759                    Tampico, MT        1  \n",
       "1304                           NaN        0  \n",
       "626   Vadsbro, Sweden Ministee, MI        0  \n",
       "5                     New York, NY        1  \n",
       "617                      Argentina        0  "
      ],
      "text/html": [
       "<div>\n",
       "<style scoped>\n",
       "    .dataframe tbody tr th:only-of-type {\n",
       "        vertical-align: middle;\n",
       "    }\n",
       "\n",
       "    .dataframe tbody tr th {\n",
       "        vertical-align: top;\n",
       "    }\n",
       "\n",
       "    .dataframe thead th {\n",
       "        text-align: right;\n",
       "    }\n",
       "</style>\n",
       "<table border=\"1\" class=\"dataframe\">\n",
       "  <thead>\n",
       "    <tr style=\"text-align: right;\">\n",
       "      <th></th>\n",
       "      <th>pclass</th>\n",
       "      <th>name</th>\n",
       "      <th>sex</th>\n",
       "      <th>age</th>\n",
       "      <th>sibsp</th>\n",
       "      <th>parch</th>\n",
       "      <th>ticket</th>\n",
       "      <th>fare</th>\n",
       "      <th>cabin</th>\n",
       "      <th>embarked</th>\n",
       "      <th>boat</th>\n",
       "      <th>body</th>\n",
       "      <th>home.dest</th>\n",
       "      <th>survived</th>\n",
       "    </tr>\n",
       "  </thead>\n",
       "  <tbody>\n",
       "    <tr>\n",
       "      <th>759</th>\n",
       "      <td>3</td>\n",
       "      <td>de Messemaeker, Mrs. Guillaume Joseph (Emma)</td>\n",
       "      <td>female</td>\n",
       "      <td>36.0</td>\n",
       "      <td>1</td>\n",
       "      <td>0</td>\n",
       "      <td>345572</td>\n",
       "      <td>17.4000</td>\n",
       "      <td>NaN</td>\n",
       "      <td>S</td>\n",
       "      <td>13</td>\n",
       "      <td>NaN</td>\n",
       "      <td>Tampico, MT</td>\n",
       "      <td>1</td>\n",
       "    </tr>\n",
       "    <tr>\n",
       "      <th>1304</th>\n",
       "      <td>3</td>\n",
       "      <td>Zabour, Miss. Hileni</td>\n",
       "      <td>female</td>\n",
       "      <td>14.5</td>\n",
       "      <td>1</td>\n",
       "      <td>0</td>\n",
       "      <td>2665</td>\n",
       "      <td>14.4542</td>\n",
       "      <td>NaN</td>\n",
       "      <td>C</td>\n",
       "      <td>NaN</td>\n",
       "      <td>328.0</td>\n",
       "      <td>NaN</td>\n",
       "      <td>0</td>\n",
       "    </tr>\n",
       "    <tr>\n",
       "      <th>626</th>\n",
       "      <td>3</td>\n",
       "      <td>Andersson, Miss. Ida Augusta Margareta</td>\n",
       "      <td>female</td>\n",
       "      <td>38.0</td>\n",
       "      <td>4</td>\n",
       "      <td>2</td>\n",
       "      <td>347091</td>\n",
       "      <td>7.7750</td>\n",
       "      <td>NaN</td>\n",
       "      <td>S</td>\n",
       "      <td>NaN</td>\n",
       "      <td>NaN</td>\n",
       "      <td>Vadsbro, Sweden Ministee, MI</td>\n",
       "      <td>0</td>\n",
       "    </tr>\n",
       "    <tr>\n",
       "      <th>5</th>\n",
       "      <td>1</td>\n",
       "      <td>Anderson, Mr. Harry</td>\n",
       "      <td>male</td>\n",
       "      <td>48.0</td>\n",
       "      <td>0</td>\n",
       "      <td>0</td>\n",
       "      <td>19952</td>\n",
       "      <td>26.5500</td>\n",
       "      <td>E12</td>\n",
       "      <td>S</td>\n",
       "      <td>3</td>\n",
       "      <td>NaN</td>\n",
       "      <td>New York, NY</td>\n",
       "      <td>1</td>\n",
       "    </tr>\n",
       "    <tr>\n",
       "      <th>617</th>\n",
       "      <td>3</td>\n",
       "      <td>Ali, Mr. William</td>\n",
       "      <td>male</td>\n",
       "      <td>25.0</td>\n",
       "      <td>0</td>\n",
       "      <td>0</td>\n",
       "      <td>SOTON/O.Q. 3101312</td>\n",
       "      <td>7.0500</td>\n",
       "      <td>NaN</td>\n",
       "      <td>S</td>\n",
       "      <td>NaN</td>\n",
       "      <td>79.0</td>\n",
       "      <td>Argentina</td>\n",
       "      <td>0</td>\n",
       "    </tr>\n",
       "  </tbody>\n",
       "</table>\n",
       "</div>"
      ]
     },
     "execution_count": 2,
     "metadata": {},
     "output_type": "execute_result"
    }
   ],
   "execution_count": 2
  },
  {
   "metadata": {
    "ExecuteTime": {
     "end_time": "2024-09-07T19:59:40.741855Z",
     "start_time": "2024-09-07T19:59:40.710505Z"
    }
   },
   "cell_type": "code",
   "source": "titanic.info()",
   "id": "6982f103d5f5ff1c",
   "outputs": [
    {
     "name": "stdout",
     "output_type": "stream",
     "text": [
      "<class 'pandas.core.frame.DataFrame'>\n",
      "RangeIndex: 1309 entries, 0 to 1308\n",
      "Data columns (total 14 columns):\n",
      " #   Column     Non-Null Count  Dtype   \n",
      "---  ------     --------------  -----   \n",
      " 0   pclass     1309 non-null   int64   \n",
      " 1   name       1309 non-null   object  \n",
      " 2   sex        1309 non-null   category\n",
      " 3   age        1046 non-null   float64 \n",
      " 4   sibsp      1309 non-null   int64   \n",
      " 5   parch      1309 non-null   int64   \n",
      " 6   ticket     1309 non-null   object  \n",
      " 7   fare       1308 non-null   float64 \n",
      " 8   cabin      295 non-null    object  \n",
      " 9   embarked   1307 non-null   category\n",
      " 10  boat       486 non-null    object  \n",
      " 11  body       121 non-null    float64 \n",
      " 12  home.dest  745 non-null    object  \n",
      " 13  survived   1309 non-null   category\n",
      "dtypes: category(3), float64(3), int64(3), object(5)\n",
      "memory usage: 116.8+ KB\n"
     ]
    }
   ],
   "execution_count": 3
  },
  {
   "metadata": {},
   "cell_type": "markdown",
   "source": [
    "## Dicionário de Dados\n",
    "- **pclass**: Classe do bilhete\n",
    "1 = 1ª Classe\n",
    "2 = 2ª Classe\n",
    "3 = 3ª Classe\n",
    "- **name**: Nome do passageiro\n",
    "- **sex**: Sexo do passageiro\n",
    "- **age**: Idade do passageiro\n",
    "- **sibsp**: Quantidade de cônjuges e irmãos a bordo\n",
    "- **parch**: Quantidade de pais e filhos a bordo\n",
    "- **ticket**: Número da passagem\n",
    "- **fare**: Preço da Passagem\n",
    "- **cabin**: Número da cabine do passageiro\n",
    "- **embarked**: Porto no qual o passageiro embarcou\n",
    "C = Cherbourg\n",
    "Q = Queenstown\n",
    "S = Southampton\n",
    "- **boat**: bote salva-vidas\n",
    "- **body**: Número de identificação do corpo\n",
    "- **home.dest**: Destino final do passageiro\n",
    "- **survived**: Informa se o passageiro sobreviveu ao desastre\n",
    "0 = Não\n",
    "1 = Sim\n",
    "\n",
    "### Pré-Processamento\n",
    "- Remover colunas irrelevantes\n",
    "- Tratar valores faltantes\n",
    "- Codificar variáveis categóricas\n",
    "- Dividir os dados em treino e teste\n",
    "- Treinar o modelo\n",
    "- Avaliar o modelo\n",
    "- Aplicar a poda\n",
    "- Avaliar o modelo podado\n",
    "- Realizar previsões\n",
    "- Interpretar os resultados\n",
    "- Apresentar conclusões\n",
    "- Aplicar em casos de uso\n",
    "- Considerações adicionais\n",
    "- Referências"
   ],
   "id": "5a9c4ac05c929359"
  },
  {
   "metadata": {},
   "cell_type": "markdown",
   "source": "## Removendo colunas irrelevantes\n",
   "id": "68a2f1c2f3f261e2"
  },
  {
   "metadata": {
    "ExecuteTime": {
     "end_time": "2024-09-07T19:59:40.914447Z",
     "start_time": "2024-09-07T19:59:40.905098Z"
    }
   },
   "cell_type": "code",
   "source": [
    "titanic.drop(['name', 'ticket', 'cabin', 'boat', 'body', 'home.dest'], axis=1, inplace=True)\n",
    "titanic.shape"
   ],
   "id": "c3973cad0252f359",
   "outputs": [
    {
     "data": {
      "text/plain": [
       "(1309, 8)"
      ]
     },
     "execution_count": 4,
     "metadata": {},
     "output_type": "execute_result"
    }
   ],
   "execution_count": 4
  },
  {
   "metadata": {},
   "cell_type": "markdown",
   "source": [
    "- As colunas 'name', 'ticket', 'cabin' e 'home.dest' foram removidas por não serem relevantes para a análise.\n",
    "- AS colunas 'boat' e 'body' foram removidas pois causas vazamento de informação, pois são informações que só são conhecidas após o acidente e indicam se o passageiro sobreviveu ou não."
   ],
   "id": "292bbff1b84fc294"
  },
  {
   "metadata": {
    "ExecuteTime": {
     "end_time": "2024-09-07T19:59:55.576898Z",
     "start_time": "2024-09-07T19:59:55.564061Z"
    }
   },
   "cell_type": "code",
   "source": [
    "# Deletar dados duplicados\n",
    "titanic.drop_duplicates(inplace=True)\n",
    "titanic.shape"
   ],
   "id": "caa27f821d949405",
   "outputs": [
    {
     "data": {
      "text/plain": [
       "(1114, 8)"
      ]
     },
     "execution_count": 6,
     "metadata": {},
     "output_type": "execute_result"
    }
   ],
   "execution_count": 6
  },
  {
   "metadata": {},
   "cell_type": "markdown",
   "source": "## Verificando valores faltantes",
   "id": "5a52aa76f1901bcd"
  },
  {
   "metadata": {
    "ExecuteTime": {
     "end_time": "2024-09-07T20:00:00.360584Z",
     "start_time": "2024-09-07T20:00:00.350162Z"
    }
   },
   "cell_type": "code",
   "source": "titanic.isnull().sum()/len(titanic)*100",
   "id": "1825a40b85b8348d",
   "outputs": [
    {
     "data": {
      "text/plain": [
       "pclass       0.000000\n",
       "sex          0.000000\n",
       "age         12.567325\n",
       "sibsp        0.000000\n",
       "parch        0.000000\n",
       "fare         0.089767\n",
       "embarked     0.179533\n",
       "survived     0.000000\n",
       "dtype: float64"
      ]
     },
     "execution_count": 7,
     "metadata": {},
     "output_type": "execute_result"
    }
   ],
   "execution_count": 7
  },
  {
   "metadata": {},
   "cell_type": "markdown",
   "source": "",
   "id": "5fd2d63c2779e58a"
  },
  {
   "metadata": {
    "ExecuteTime": {
     "end_time": "2024-09-07T20:11:33.994129Z",
     "start_time": "2024-09-07T20:11:33.966904Z"
    }
   },
   "cell_type": "code",
   "source": [
    "# Preencher valores faltantes na coluna 'age' utilizando KNN imputer\n",
    "imputer = KNNImputer(n_neighbors=10)\n",
    "titanic['age'] = imputer.fit_transform(titanic[['age']])\n"
   ],
   "id": "9258d68f98be9aa5",
   "outputs": [],
   "execution_count": 13
  },
  {
   "metadata": {
    "ExecuteTime": {
     "end_time": "2024-09-07T20:11:39.622409Z",
     "start_time": "2024-09-07T20:11:39.613561Z"
    }
   },
   "cell_type": "code",
   "source": "titanic.isnull().sum()/len(titanic)*100",
   "id": "c03df502db640187",
   "outputs": [
    {
     "data": {
      "text/plain": [
       "pclass      0.000000\n",
       "sex         0.000000\n",
       "age         0.000000\n",
       "sibsp       0.000000\n",
       "parch       0.000000\n",
       "fare        0.089767\n",
       "embarked    0.179533\n",
       "survived    0.000000\n",
       "dtype: float64"
      ]
     },
     "execution_count": 14,
     "metadata": {},
     "output_type": "execute_result"
    }
   ],
   "execution_count": 14
  },
  {
   "metadata": {
    "ExecuteTime": {
     "end_time": "2024-09-07T20:12:21.061942Z",
     "start_time": "2024-09-07T20:12:21.053176Z"
    }
   },
   "cell_type": "code",
   "source": [
    "titanic.dropna(inplace=True)\n",
    "titanic.shape"
   ],
   "id": "845049c514054bb9",
   "outputs": [],
   "execution_count": 15
  },
  {
   "metadata": {},
   "cell_type": "markdown",
   "source": "## Transformando variáveis categóricas",
   "id": "9278a0fd9bdb228b"
  },
  {
   "metadata": {
    "ExecuteTime": {
     "end_time": "2024-09-07T20:30:00.558875Z",
     "start_time": "2024-09-07T20:30:00.553068Z"
    }
   },
   "cell_type": "code",
   "source": [
    "# Função para contagem de valores únicos\n",
    "def unique_values(df):\n",
    "    for column in ['pclass', 'sex', 'sibsp', 'parch', 'embarked', 'survived']:\n",
    "        print(f\"{column}: {df[column].unique()}\")\n"
   ],
   "id": "6056da279a43d7f0",
   "outputs": [],
   "execution_count": 30
  },
  {
   "metadata": {
    "ExecuteTime": {
     "end_time": "2024-09-07T20:30:02.422804Z",
     "start_time": "2024-09-07T20:30:02.413015Z"
    }
   },
   "cell_type": "code",
   "source": "unique_values(titanic)",
   "id": "b99a38677e82da58",
   "outputs": [
    {
     "name": "stdout",
     "output_type": "stream",
     "text": [
      "pclass: [1 2 3]\n",
      "sex: ['female', 'male']\n",
      "Categories (2, object): ['female', 'male']\n",
      "sibsp: [0 1 2 3 4 5 8]\n",
      "parch: [0 2 1 4 3 5 6 9]\n",
      "embarked: ['S', 'C', 'Q']\n",
      "Categories (3, object): ['C', 'Q', 'S']\n",
      "survived: ['1', '0']\n",
      "Categories (2, object): ['0', '1']\n"
     ]
    }
   ],
   "execution_count": 31
  },
  {
   "metadata": {
    "ExecuteTime": {
     "end_time": "2024-09-07T20:15:17.711487Z",
     "start_time": "2024-09-07T20:15:16.433706Z"
    }
   },
   "cell_type": "code",
   "source": [
    "\n",
    "# transformar variáveis categóricas em numéricas\n",
    "titanic = pd.get_dummies(titanic, columns=[], drop_first=True)"
   ],
   "id": "4820aa19e975d071",
   "outputs": [
    {
     "ename": "ValueError",
     "evalue": "could not convert string to float: 'female'",
     "output_type": "error",
     "traceback": [
      "\u001B[1;31m---------------------------------------------------------------------------\u001B[0m",
      "\u001B[1;31mValueError\u001B[0m                                Traceback (most recent call last)",
      "Cell \u001B[1;32mIn[18], line 2\u001B[0m\n\u001B[0;32m      1\u001B[0m \u001B[38;5;66;03m# Matriz de correlação\u001B[39;00m\n\u001B[1;32m----> 2\u001B[0m \u001B[43mtitanic\u001B[49m\u001B[38;5;241;43m.\u001B[39;49m\u001B[43mcorr\u001B[49m\u001B[43m(\u001B[49m\u001B[43m)\u001B[49m\n",
      "File \u001B[1;32m~\\AppData\\Local\\Packages\\PythonSoftwareFoundation.Python.3.12_qbz5n2kfra8p0\\LocalCache\\local-packages\\Python312\\site-packages\\pandas\\core\\frame.py:11049\u001B[0m, in \u001B[0;36mDataFrame.corr\u001B[1;34m(self, method, min_periods, numeric_only)\u001B[0m\n\u001B[0;32m  11047\u001B[0m cols \u001B[38;5;241m=\u001B[39m data\u001B[38;5;241m.\u001B[39mcolumns\n\u001B[0;32m  11048\u001B[0m idx \u001B[38;5;241m=\u001B[39m cols\u001B[38;5;241m.\u001B[39mcopy()\n\u001B[1;32m> 11049\u001B[0m mat \u001B[38;5;241m=\u001B[39m \u001B[43mdata\u001B[49m\u001B[38;5;241;43m.\u001B[39;49m\u001B[43mto_numpy\u001B[49m\u001B[43m(\u001B[49m\u001B[43mdtype\u001B[49m\u001B[38;5;241;43m=\u001B[39;49m\u001B[38;5;28;43mfloat\u001B[39;49m\u001B[43m,\u001B[49m\u001B[43m \u001B[49m\u001B[43mna_value\u001B[49m\u001B[38;5;241;43m=\u001B[39;49m\u001B[43mnp\u001B[49m\u001B[38;5;241;43m.\u001B[39;49m\u001B[43mnan\u001B[49m\u001B[43m,\u001B[49m\u001B[43m \u001B[49m\u001B[43mcopy\u001B[49m\u001B[38;5;241;43m=\u001B[39;49m\u001B[38;5;28;43;01mFalse\u001B[39;49;00m\u001B[43m)\u001B[49m\n\u001B[0;32m  11051\u001B[0m \u001B[38;5;28;01mif\u001B[39;00m method \u001B[38;5;241m==\u001B[39m \u001B[38;5;124m\"\u001B[39m\u001B[38;5;124mpearson\u001B[39m\u001B[38;5;124m\"\u001B[39m:\n\u001B[0;32m  11052\u001B[0m     correl \u001B[38;5;241m=\u001B[39m libalgos\u001B[38;5;241m.\u001B[39mnancorr(mat, minp\u001B[38;5;241m=\u001B[39mmin_periods)\n",
      "File \u001B[1;32m~\\AppData\\Local\\Packages\\PythonSoftwareFoundation.Python.3.12_qbz5n2kfra8p0\\LocalCache\\local-packages\\Python312\\site-packages\\pandas\\core\\frame.py:1993\u001B[0m, in \u001B[0;36mDataFrame.to_numpy\u001B[1;34m(self, dtype, copy, na_value)\u001B[0m\n\u001B[0;32m   1991\u001B[0m \u001B[38;5;28;01mif\u001B[39;00m dtype \u001B[38;5;129;01mis\u001B[39;00m \u001B[38;5;129;01mnot\u001B[39;00m \u001B[38;5;28;01mNone\u001B[39;00m:\n\u001B[0;32m   1992\u001B[0m     dtype \u001B[38;5;241m=\u001B[39m np\u001B[38;5;241m.\u001B[39mdtype(dtype)\n\u001B[1;32m-> 1993\u001B[0m result \u001B[38;5;241m=\u001B[39m \u001B[38;5;28;43mself\u001B[39;49m\u001B[38;5;241;43m.\u001B[39;49m\u001B[43m_mgr\u001B[49m\u001B[38;5;241;43m.\u001B[39;49m\u001B[43mas_array\u001B[49m\u001B[43m(\u001B[49m\u001B[43mdtype\u001B[49m\u001B[38;5;241;43m=\u001B[39;49m\u001B[43mdtype\u001B[49m\u001B[43m,\u001B[49m\u001B[43m \u001B[49m\u001B[43mcopy\u001B[49m\u001B[38;5;241;43m=\u001B[39;49m\u001B[43mcopy\u001B[49m\u001B[43m,\u001B[49m\u001B[43m \u001B[49m\u001B[43mna_value\u001B[49m\u001B[38;5;241;43m=\u001B[39;49m\u001B[43mna_value\u001B[49m\u001B[43m)\u001B[49m\n\u001B[0;32m   1994\u001B[0m \u001B[38;5;28;01mif\u001B[39;00m result\u001B[38;5;241m.\u001B[39mdtype \u001B[38;5;129;01mis\u001B[39;00m \u001B[38;5;129;01mnot\u001B[39;00m dtype:\n\u001B[0;32m   1995\u001B[0m     result \u001B[38;5;241m=\u001B[39m np\u001B[38;5;241m.\u001B[39masarray(result, dtype\u001B[38;5;241m=\u001B[39mdtype)\n",
      "File \u001B[1;32m~\\AppData\\Local\\Packages\\PythonSoftwareFoundation.Python.3.12_qbz5n2kfra8p0\\LocalCache\\local-packages\\Python312\\site-packages\\pandas\\core\\internals\\managers.py:1694\u001B[0m, in \u001B[0;36mBlockManager.as_array\u001B[1;34m(self, dtype, copy, na_value)\u001B[0m\n\u001B[0;32m   1692\u001B[0m         arr\u001B[38;5;241m.\u001B[39mflags\u001B[38;5;241m.\u001B[39mwriteable \u001B[38;5;241m=\u001B[39m \u001B[38;5;28;01mFalse\u001B[39;00m\n\u001B[0;32m   1693\u001B[0m \u001B[38;5;28;01melse\u001B[39;00m:\n\u001B[1;32m-> 1694\u001B[0m     arr \u001B[38;5;241m=\u001B[39m \u001B[38;5;28;43mself\u001B[39;49m\u001B[38;5;241;43m.\u001B[39;49m\u001B[43m_interleave\u001B[49m\u001B[43m(\u001B[49m\u001B[43mdtype\u001B[49m\u001B[38;5;241;43m=\u001B[39;49m\u001B[43mdtype\u001B[49m\u001B[43m,\u001B[49m\u001B[43m \u001B[49m\u001B[43mna_value\u001B[49m\u001B[38;5;241;43m=\u001B[39;49m\u001B[43mna_value\u001B[49m\u001B[43m)\u001B[49m\n\u001B[0;32m   1695\u001B[0m     \u001B[38;5;66;03m# The underlying data was copied within _interleave, so no need\u001B[39;00m\n\u001B[0;32m   1696\u001B[0m     \u001B[38;5;66;03m# to further copy if copy=True or setting na_value\u001B[39;00m\n\u001B[0;32m   1698\u001B[0m \u001B[38;5;28;01mif\u001B[39;00m na_value \u001B[38;5;129;01mis\u001B[39;00m lib\u001B[38;5;241m.\u001B[39mno_default:\n",
      "File \u001B[1;32m~\\AppData\\Local\\Packages\\PythonSoftwareFoundation.Python.3.12_qbz5n2kfra8p0\\LocalCache\\local-packages\\Python312\\site-packages\\pandas\\core\\internals\\managers.py:1747\u001B[0m, in \u001B[0;36mBlockManager._interleave\u001B[1;34m(self, dtype, na_value)\u001B[0m\n\u001B[0;32m   1741\u001B[0m rl \u001B[38;5;241m=\u001B[39m blk\u001B[38;5;241m.\u001B[39mmgr_locs\n\u001B[0;32m   1742\u001B[0m \u001B[38;5;28;01mif\u001B[39;00m blk\u001B[38;5;241m.\u001B[39mis_extension:\n\u001B[0;32m   1743\u001B[0m     \u001B[38;5;66;03m# Avoid implicit conversion of extension blocks to object\u001B[39;00m\n\u001B[0;32m   1744\u001B[0m \n\u001B[0;32m   1745\u001B[0m     \u001B[38;5;66;03m# error: Item \"ndarray\" of \"Union[ndarray, ExtensionArray]\" has no\u001B[39;00m\n\u001B[0;32m   1746\u001B[0m     \u001B[38;5;66;03m# attribute \"to_numpy\"\u001B[39;00m\n\u001B[1;32m-> 1747\u001B[0m     arr \u001B[38;5;241m=\u001B[39m \u001B[43mblk\u001B[49m\u001B[38;5;241;43m.\u001B[39;49m\u001B[43mvalues\u001B[49m\u001B[38;5;241;43m.\u001B[39;49m\u001B[43mto_numpy\u001B[49m\u001B[43m(\u001B[49m\u001B[43m  \u001B[49m\u001B[38;5;66;43;03m# type: ignore[union-attr]\u001B[39;49;00m\n\u001B[0;32m   1748\u001B[0m \u001B[43m        \u001B[49m\u001B[43mdtype\u001B[49m\u001B[38;5;241;43m=\u001B[39;49m\u001B[43mdtype\u001B[49m\u001B[43m,\u001B[49m\n\u001B[0;32m   1749\u001B[0m \u001B[43m        \u001B[49m\u001B[43mna_value\u001B[49m\u001B[38;5;241;43m=\u001B[39;49m\u001B[43mna_value\u001B[49m\u001B[43m,\u001B[49m\n\u001B[0;32m   1750\u001B[0m \u001B[43m    \u001B[49m\u001B[43m)\u001B[49m\n\u001B[0;32m   1751\u001B[0m \u001B[38;5;28;01melse\u001B[39;00m:\n\u001B[0;32m   1752\u001B[0m     arr \u001B[38;5;241m=\u001B[39m blk\u001B[38;5;241m.\u001B[39mget_values(dtype)\n",
      "File \u001B[1;32m~\\AppData\\Local\\Packages\\PythonSoftwareFoundation.Python.3.12_qbz5n2kfra8p0\\LocalCache\\local-packages\\Python312\\site-packages\\pandas\\core\\arrays\\base.py:568\u001B[0m, in \u001B[0;36mExtensionArray.to_numpy\u001B[1;34m(self, dtype, copy, na_value)\u001B[0m\n\u001B[0;32m    539\u001B[0m \u001B[38;5;28;01mdef\u001B[39;00m \u001B[38;5;21mto_numpy\u001B[39m(\n\u001B[0;32m    540\u001B[0m     \u001B[38;5;28mself\u001B[39m,\n\u001B[0;32m    541\u001B[0m     dtype: npt\u001B[38;5;241m.\u001B[39mDTypeLike \u001B[38;5;241m|\u001B[39m \u001B[38;5;28;01mNone\u001B[39;00m \u001B[38;5;241m=\u001B[39m \u001B[38;5;28;01mNone\u001B[39;00m,\n\u001B[0;32m    542\u001B[0m     copy: \u001B[38;5;28mbool\u001B[39m \u001B[38;5;241m=\u001B[39m \u001B[38;5;28;01mFalse\u001B[39;00m,\n\u001B[0;32m    543\u001B[0m     na_value: \u001B[38;5;28mobject\u001B[39m \u001B[38;5;241m=\u001B[39m lib\u001B[38;5;241m.\u001B[39mno_default,\n\u001B[0;32m    544\u001B[0m ) \u001B[38;5;241m-\u001B[39m\u001B[38;5;241m>\u001B[39m np\u001B[38;5;241m.\u001B[39mndarray:\n\u001B[0;32m    545\u001B[0m \u001B[38;5;250m    \u001B[39m\u001B[38;5;124;03m\"\"\"\u001B[39;00m\n\u001B[0;32m    546\u001B[0m \u001B[38;5;124;03m    Convert to a NumPy ndarray.\u001B[39;00m\n\u001B[0;32m    547\u001B[0m \n\u001B[1;32m   (...)\u001B[0m\n\u001B[0;32m    566\u001B[0m \u001B[38;5;124;03m    numpy.ndarray\u001B[39;00m\n\u001B[0;32m    567\u001B[0m \u001B[38;5;124;03m    \"\"\"\u001B[39;00m\n\u001B[1;32m--> 568\u001B[0m     result \u001B[38;5;241m=\u001B[39m \u001B[43mnp\u001B[49m\u001B[38;5;241;43m.\u001B[39;49m\u001B[43masarray\u001B[49m\u001B[43m(\u001B[49m\u001B[38;5;28;43mself\u001B[39;49m\u001B[43m,\u001B[49m\u001B[43m \u001B[49m\u001B[43mdtype\u001B[49m\u001B[38;5;241;43m=\u001B[39;49m\u001B[43mdtype\u001B[49m\u001B[43m)\u001B[49m\n\u001B[0;32m    569\u001B[0m     \u001B[38;5;28;01mif\u001B[39;00m copy \u001B[38;5;129;01mor\u001B[39;00m na_value \u001B[38;5;129;01mis\u001B[39;00m \u001B[38;5;129;01mnot\u001B[39;00m lib\u001B[38;5;241m.\u001B[39mno_default:\n\u001B[0;32m    570\u001B[0m         result \u001B[38;5;241m=\u001B[39m result\u001B[38;5;241m.\u001B[39mcopy()\n",
      "File \u001B[1;32m~\\AppData\\Local\\Packages\\PythonSoftwareFoundation.Python.3.12_qbz5n2kfra8p0\\LocalCache\\local-packages\\Python312\\site-packages\\pandas\\core\\arrays\\_mixins.py:81\u001B[0m, in \u001B[0;36mravel_compat.<locals>.method\u001B[1;34m(self, *args, **kwargs)\u001B[0m\n\u001B[0;32m     78\u001B[0m \u001B[38;5;129m@wraps\u001B[39m(meth)\n\u001B[0;32m     79\u001B[0m \u001B[38;5;28;01mdef\u001B[39;00m \u001B[38;5;21mmethod\u001B[39m(\u001B[38;5;28mself\u001B[39m, \u001B[38;5;241m*\u001B[39margs, \u001B[38;5;241m*\u001B[39m\u001B[38;5;241m*\u001B[39mkwargs):\n\u001B[0;32m     80\u001B[0m     \u001B[38;5;28;01mif\u001B[39;00m \u001B[38;5;28mself\u001B[39m\u001B[38;5;241m.\u001B[39mndim \u001B[38;5;241m==\u001B[39m \u001B[38;5;241m1\u001B[39m:\n\u001B[1;32m---> 81\u001B[0m         \u001B[38;5;28;01mreturn\u001B[39;00m \u001B[43mmeth\u001B[49m\u001B[43m(\u001B[49m\u001B[38;5;28;43mself\u001B[39;49m\u001B[43m,\u001B[49m\u001B[43m \u001B[49m\u001B[38;5;241;43m*\u001B[39;49m\u001B[43margs\u001B[49m\u001B[43m,\u001B[49m\u001B[43m \u001B[49m\u001B[38;5;241;43m*\u001B[39;49m\u001B[38;5;241;43m*\u001B[39;49m\u001B[43mkwargs\u001B[49m\u001B[43m)\u001B[49m\n\u001B[0;32m     83\u001B[0m     flags \u001B[38;5;241m=\u001B[39m \u001B[38;5;28mself\u001B[39m\u001B[38;5;241m.\u001B[39m_ndarray\u001B[38;5;241m.\u001B[39mflags\n\u001B[0;32m     84\u001B[0m     flat \u001B[38;5;241m=\u001B[39m \u001B[38;5;28mself\u001B[39m\u001B[38;5;241m.\u001B[39mravel(\u001B[38;5;124m\"\u001B[39m\u001B[38;5;124mK\u001B[39m\u001B[38;5;124m\"\u001B[39m)\n",
      "File \u001B[1;32m~\\AppData\\Local\\Packages\\PythonSoftwareFoundation.Python.3.12_qbz5n2kfra8p0\\LocalCache\\local-packages\\Python312\\site-packages\\pandas\\core\\arrays\\categorical.py:1664\u001B[0m, in \u001B[0;36mCategorical.__array__\u001B[1;34m(self, dtype, copy)\u001B[0m\n\u001B[0;32m   1662\u001B[0m ret \u001B[38;5;241m=\u001B[39m take_nd(\u001B[38;5;28mself\u001B[39m\u001B[38;5;241m.\u001B[39mcategories\u001B[38;5;241m.\u001B[39m_values, \u001B[38;5;28mself\u001B[39m\u001B[38;5;241m.\u001B[39m_codes)\n\u001B[0;32m   1663\u001B[0m \u001B[38;5;28;01mif\u001B[39;00m dtype \u001B[38;5;129;01mand\u001B[39;00m np\u001B[38;5;241m.\u001B[39mdtype(dtype) \u001B[38;5;241m!=\u001B[39m \u001B[38;5;28mself\u001B[39m\u001B[38;5;241m.\u001B[39mcategories\u001B[38;5;241m.\u001B[39mdtype:\n\u001B[1;32m-> 1664\u001B[0m     \u001B[38;5;28;01mreturn\u001B[39;00m \u001B[43mnp\u001B[49m\u001B[38;5;241;43m.\u001B[39;49m\u001B[43masarray\u001B[49m\u001B[43m(\u001B[49m\u001B[43mret\u001B[49m\u001B[43m,\u001B[49m\u001B[43m \u001B[49m\u001B[43mdtype\u001B[49m\u001B[43m)\u001B[49m\n\u001B[0;32m   1665\u001B[0m \u001B[38;5;66;03m# When we're a Categorical[ExtensionArray], like Interval,\u001B[39;00m\n\u001B[0;32m   1666\u001B[0m \u001B[38;5;66;03m# we need to ensure __array__ gets all the way to an\u001B[39;00m\n\u001B[0;32m   1667\u001B[0m \u001B[38;5;66;03m# ndarray.\u001B[39;00m\n\u001B[0;32m   1668\u001B[0m \u001B[38;5;28;01mreturn\u001B[39;00m np\u001B[38;5;241m.\u001B[39masarray(ret)\n",
      "\u001B[1;31mValueError\u001B[0m: could not convert string to float: 'female'"
     ]
    }
   ],
   "execution_count": 18
  },
  {
   "metadata": {},
   "cell_type": "code",
   "source": "",
   "id": "c122cd2d2cf76816",
   "outputs": [],
   "execution_count": null
  },
  {
   "metadata": {},
   "cell_type": "code",
   "source": "",
   "id": "7843ad0461c4aeb9",
   "outputs": [],
   "execution_count": null
  },
  {
   "metadata": {},
   "cell_type": "code",
   "source": "",
   "id": "c4c11d1bb6561cd4",
   "outputs": [],
   "execution_count": null
  },
  {
   "metadata": {},
   "cell_type": "code",
   "source": "",
   "id": "9266cdd936d39d93",
   "outputs": [],
   "execution_count": null
  },
  {
   "metadata": {},
   "cell_type": "code",
   "source": "",
   "id": "91755f85c115fde7",
   "outputs": [],
   "execution_count": null
  },
  {
   "metadata": {},
   "cell_type": "code",
   "source": [
    "X_train, X_test, y_train, y_test = train_test_split(dados.data, dados.target, test_size=0.2, random_state=80)\n",
    "\n",
    "# Criar o modelo\n",
    "modelo_clf = DecisionTreeClassifier(random_state=80, criterion='gini')\n",
    "\n",
    "# Treinar a árvore de decisão\n",
    "modelo_clf.fit(X_train, y_train)\n",
    "\n",
    "# Fazer predições\n",
    "y_pred = modelo_clf.predict(X_test)\n",
    "\n",
    "# Avaliar o modelo\n",
    "acuracia = accuracy_score(y_test, y_pred)\n",
    "print(f\"Acurácia: {acuracia*100:.2f}\")"
   ],
   "id": "c2d57a46fb9cab1b",
   "outputs": [],
   "execution_count": null
  },
  {
   "metadata": {},
   "cell_type": "code",
   "source": "",
   "id": "fbf2eb1de2ae16e2",
   "outputs": [],
   "execution_count": null
  },
  {
   "metadata": {},
   "cell_type": "code",
   "source": "",
   "id": "5989ae7b6379cca7",
   "outputs": [],
   "execution_count": null
  },
  {
   "metadata": {},
   "cell_type": "code",
   "source": [
    "# Plotando a matriz de confusão\n",
    "cf = confusion_matrix(y_test, y_pred)\n",
    "disp = ConfusionMatrixDisplay(confusion_matrix=cf, display_labels=dados.target_names)\n",
    "disp.plot()"
   ],
   "id": "dbf6f0612e2208b9",
   "outputs": [],
   "execution_count": null
  },
  {
   "metadata": {},
   "cell_type": "code",
   "source": [
    "# Aplicando a poda, calculando os ccp_alpha\n",
    "path = modelo_clf.cost_complexity_pruning_path(X_train, y_train)\n",
    "ccp_alphas, impurities = path.ccp_alphas, path.impurities\n",
    "\n",
    "# Lista para armazenar os resultados de validação cruzada\n",
    "scores = []\n",
    "\n",
    "# Para cada valor de ccp_alpha, treinamos o modelo\n",
    "for alpha in ccp_alphas:\n",
    "    modelo_clf = DecisionTreeClassifier(random_state=80, ccp_alpha=alpha).fit(X_train, y_train)\n",
    "    scores.append(modelo_clf)\n",
    "\n",
    "train_scores = [modelo_clf.score(X_train, y_train) for modelo_clf in scores]\n",
    "test_scores = [modelo_clf.score(X_test, y_test) for modelo_clf in scores]\n",
    "\n",
    "# Plotar os valores de ccp_alpha\n",
    "fig, ax = plt.subplots()\n",
    "ax.set_xlabel(\"alpha\")\n",
    "ax.set_ylabel(\"Acurácia\")\n",
    "ax.set_title(\"Acurácia x alpha do conjunto de dados de treino e teste\")\n",
    "ax.plot(ccp_alphas, train_scores, marker='o', label=\"treino\",\n",
    "        drawstyle=\"steps-post\")\n",
    "ax.plot(ccp_alphas, test_scores, marker='o', label=\"teste\",\n",
    "        drawstyle=\"steps-post\")\n",
    "ax.legend()\n",
    "plt.show()"
   ],
   "id": "b144ba18f032b19f",
   "outputs": [],
   "execution_count": null
  },
  {
   "metadata": {},
   "cell_type": "code",
   "source": [
    "# Mostrando os ccp_alpha\n",
    "train_scores\n"
   ],
   "id": "c90ff28e3e736111",
   "outputs": [],
   "execution_count": null
  },
  {
   "metadata": {},
   "cell_type": "code",
   "source": [
    "# Treinando com poda\n",
    "modelo_podado = DecisionTreeClassifier(random_state=80, ccp_alpha=ccp_alphas[3])\n",
    "modelo_podado.fit(X_train, y_train)\n",
    "\n",
    "y_pred_podado = modelo_podado.predict(X_test)\n",
    "acuracia_podada = accuracy_score(y_test, y_pred_podado)\n",
    "print(f\"Acurácia após poda: {acuracia_podada*100:.2f}\")"
   ],
   "id": "d67e2d4371b03e7c",
   "outputs": [],
   "execution_count": null
  },
  {
   "metadata": {},
   "cell_type": "code",
   "source": "",
   "id": "241be77632c7cc3a",
   "outputs": [],
   "execution_count": null
  },
  {
   "metadata": {},
   "cell_type": "code",
   "source": "",
   "id": "494bdd97101f0082",
   "outputs": [],
   "execution_count": null
  },
  {
   "metadata": {},
   "cell_type": "markdown",
   "source": "#### Regressão",
   "id": "5c9819d3e99215e"
  },
  {
   "metadata": {},
   "cell_type": "code",
   "source": [
    "# Carregar dados\n",
    "dados = fetch_california_housing()\n",
    "X_train, X_test, y_train, y_test = train_test_split(dados.data, dados.target, test_size=0.2, random_state=42)\n",
    "\n",
    "# Criar o modelo\n",
    "modelo = DecisionTreeRegressor(random_state=42)\n",
    "\n",
    "# Treinar o modelo\n",
    "modelo.fit(X_train, y_train)\n",
    "\n",
    "# Fazer predições\n",
    "y_pred = modelo.predict(X_test)\n",
    "\n",
    "# Avaliar o modelo\n",
    "mse = mean_squared_error(y_test, y_pred)\n",
    "print(f\"MSE: {mse:.2f}\")\n",
    "\n",
    "# Aplicando a poda\n",
    "path = modelo.cost_complexity_pruning_path(X_train, y_train)\n",
    "ccp_alphas, impurities = path.ccp_alphas, path.impurities\n",
    "\n",
    "# Treinando com poda\n",
    "modelo_podado = DecisionTreeRegressor(random_state=42, ccp_alpha=ccp_alphas[-1])\n",
    "modelo_podado.fit(X_train, y_train)\n",
    "\n",
    "y_pred_podado = modelo_podado.predict(X_test)\n",
    "mse_podado = mean_squared_error(y_test, y_pred_podado)\n",
    "print(f\"MSE após poda: {mse_podado:.2f}\")"
   ],
   "id": "995487f84ccb3e03",
   "outputs": [],
   "execution_count": null
  },
  {
   "metadata": {},
   "cell_type": "markdown",
   "source": [
    "### Casos de Uso\n",
    "#### Classificação:\n",
    "- Diagnóstico Médico: Determinar se um paciente tem uma doença com base em sintomas e exames laboratoriais.\n",
    "- Detecção de Fraude: Identificar se uma transação bancária é fraudulenta ou não.\n",
    "\n",
    "#### Regressão:\n",
    "- Previsão de Preço de Imóveis: Estimar o preço de uma casa com base em sua localização, tamanho e características.\n",
    "- Previsão de Demanda: Prever a quantidade de produtos que será vendida em um determinado período.\n",
    "\n",
    "### Conclusão\n",
    "As árvores de decisão são ferramentas poderosas tanto para classificação quanto para regressão. Embora fáceis de interpretar, sua flexibilidade pode levar ao overfitting. O uso do parâmetro ccp_alpha é fundamental para aplicar poda e melhorar a generalização do modelo.\n"
   ],
   "id": "4fe24e171946fc7d"
  },
  {
   "metadata": {},
   "cell_type": "markdown",
   "source": [
    "Para escolher o melhor valor de `ccp_alpha` (o parâmetro de poda de custo complexo) ao treinar uma árvore de decisão, o processo envolve equilibrar a complexidade da árvore e a precisão do modelo. Um valor adequado de `ccp_alpha` ajuda a controlar o **overfitting**, permitindo que a árvore generalize melhor para dados não vistos.\n",
    "\n",
    "O processo básico para escolher o valor ideal de `ccp_alpha` envolve o uso de um **gráfico de validação cruzada** ou testes sucessivos com diferentes valores de `ccp_alpha`. A ideia é encontrar o valor que produz o melhor desempenho em dados de validação.\n",
    "\n",
    "### 1. **Obtenha os valores de `ccp_alpha` disponíveis**:\n",
    "Cada árvore de decisão tem um caminho de poda específico que pode ser representado por diferentes valores de `ccp_alpha`. O Scikit-learn oferece uma função chamada `cost_complexity_pruning_path` que retorna uma lista de valores de `ccp_alpha` e os erros correspondentes.\n"
   ],
   "id": "e94c9b34abbd946"
  },
  {
   "metadata": {},
   "cell_type": "code",
   "source": [
    "path = modelo.cost_complexity_pruning_path(X_train, y_train)\n",
    "ccp_alphas, impurities = path.ccp_alphas, path.impurities"
   ],
   "id": "67900ae5b86b5690",
   "outputs": [],
   "execution_count": null
  },
  {
   "metadata": {},
   "cell_type": "markdown",
   "source": "A variável `ccp_alphas` conterá todos os possíveis valores de poda para a árvore, e impurities conterá o erro associado a cada valor de `ccp_alphas`.",
   "id": "33af5a0217d70fd2"
  },
  {
   "metadata": {},
   "cell_type": "markdown",
   "source": [
    "### 2. Valide a árvore em diferentes valores de ccp_alpha:\n",
    "Depois de obter os possíveis valores de ccp_alpha, você pode treinar múltiplos modelos, cada um com um valor de ccp_alpha, e avaliar o desempenho em um conjunto de validação.\n",
    "\n",
    "Aqui está um exemplo prático de como isso pode ser feito:"
   ],
   "id": "2fd16da090fe18be"
  },
  {
   "metadata": {},
   "cell_type": "code",
   "source": [
    "from sklearn.model_selection import cross_val_score\n",
    "import matplotlib.pyplot as plt\n",
    "\n",
    "# Lista para armazenar os resultados de validação cruzada\n",
    "scores = []\n",
    "\n",
    "# Para cada valor de ccp_alpha, treinamos e validamos o modelo\n",
    "for alpha in ccp_alphas:\n",
    "    modelo = DecisionTreeClassifier(random_state=42, ccp_alpha=alpha)\n",
    "    score = cross_val_score(modelo, X_train, y_train, cv=5)\n",
    "    scores.append(score.mean())\n",
    "\n",
    "# Plotar os valores de ccp_alpha vs. desempenho (acurácia média)\n",
    "plt.figure(figsize=(10, 6))\n",
    "plt.plot(ccp_alphas, scores, marker='o', drawstyle=\"steps-post\")\n",
    "plt.xlabel('ccp_alpha')\n",
    "plt.ylabel('Acurácia Média')\n",
    "plt.title('Validação Cruzada para diferentes valores de ccp_alpha')\n",
    "plt.show()\n"
   ],
   "id": "bfcbca98d07c4bd",
   "outputs": [],
   "execution_count": null
  },
  {
   "metadata": {},
   "cell_type": "markdown",
   "source": [
    "### 3. Escolha o ccp_alpha com melhor desempenho:\n",
    "Após treinar a árvore para diferentes valores de ccp_alpha, você deve escolher aquele que maximiza o desempenho em termos de uma métrica de validação (como acurácia, F1-score, ou erro médio quadrático no caso de regressão). No gráfico gerado, o valor de ccp_alpha correspondente ao pico da curva geralmente é o ideal.\n",
    "\n",
    "### 4. Testar o modelo com o melhor ccp_alpha:\n",
    "Depois de identificar o melhor ccp_alpha, treine o modelo com esse valor e avalie seu desempenho final no conjunto de teste."
   ],
   "id": "7f649b4452f2e1a2"
  },
  {
   "metadata": {},
   "cell_type": "code",
   "source": [
    "# Escolha o melhor ccp_alpha (aquele que gerou a melhor acurácia)\n",
    "melhor_ccp_alpha = ccp_alphas[scores.index(max(scores))]\n",
    "\n",
    "# Treine a árvore final com o melhor ccp_alpha\n",
    "modelo_final = DecisionTreeClassifier(random_state=42, ccp_alpha=melhor_ccp_alpha)\n",
    "modelo_final.fit(X_train, y_train)\n",
    "\n",
    "# Avalie no conjunto de teste\n",
    "y_pred = modelo_final.predict(X_test)\n",
    "acuracia_final = accuracy_score(y_test, y_pred)\n",
    "print(f\"Acurácia Final com melhor ccp_alpha: {acuracia_final:.2f}\")\n"
   ],
   "id": "42bf36d4bcf3ab5a",
   "outputs": [],
   "execution_count": null
  },
  {
   "metadata": {},
   "cell_type": "code",
   "source": "",
   "id": "cbaf91701e7ce336",
   "outputs": [],
   "execution_count": null
  },
  {
   "metadata": {},
   "cell_type": "markdown",
   "source": [
    "### 5. Validação Cruzada para maior robustez:\n",
    "Além de apenas usar a divisão treino/teste, é recomendável usar validação cruzada para garantir que o valor escolhido de ccp_alpha seja realmente generalizável e não específico de um único conjunto de dados de validação."
   ],
   "id": "45de2dbc60c92bd9"
  },
  {
   "metadata": {},
   "cell_type": "code",
   "source": [
    "# Aplicando validação cruzada para diferentes valores de ccp_alpha\n",
    "from sklearn.model_selection import cross_val_score\n",
    "import matplotlib.pyplot as plt\n",
    "\n",
    "# Lista para armazenar os resultados de validação cruzada\n",
    "scores = []\n",
    "\n",
    "# Para cada valor de ccp_alpha, treinamos e validamos o modelo\n",
    "for alpha in ccp_alphas:\n",
    "    modelo = DecisionTreeClassifier(random_state=42, ccp_alpha=alpha)\n",
    "    score = cross_val_score(modelo, X_train, y_train, cv=5)\n",
    "    scores.append(score.mean())\n",
    "    \n",
    "# Plotar os valores de ccp_alpha vs. desempenho (acurácia média)\n",
    "plt.figure(figsize=(10, 6))\n",
    "plt.plot(ccp_alphas, scores, marker='o', drawstyle=\"steps-post\")\n",
    "plt.xlabel('ccp_alpha')\n",
    "plt.ylabel('Acurácia Média')\n",
    "plt.title('Validação Cruzada para diferentes valores de ccp_alpha')\n",
    "plt.show()\n",
    "\n"
   ],
   "id": "94f128f31e7f6aa4",
   "outputs": [],
   "execution_count": null
  },
  {
   "metadata": {},
   "cell_type": "markdown",
   "source": [
    "Considerações Adicionais:\n",
    "Overfitting vs. Underfitting: Um valor muito baixo de ccp_alpha resultará em uma árvore mais complexa (profunda), que pode sofrer de overfitting. Já um valor muito alto de ccp_alpha resultará em uma árvore muito simples, levando a underfitting (incapacidade de capturar padrões importantes nos dados).\n",
    "\n",
    "Avaliando o Gráfico: No gráfico gerado, conforme o valor de ccp_alpha aumenta, a árvore se torna mais simples, o que pode levar a uma queda no desempenho. O objetivo é encontrar o ponto ótimo antes que a simplicidade da árvore comece a prejudicar a precisão.\n",
    "\n",
    "Conclusão:\n",
    "A escolha do melhor valor de ccp_alpha envolve um processo iterativo de validação e ajuste fino. Usar validação cruzada e um gráfico de desempenho vs. ccp_alpha é a melhor maneira de garantir que o modelo final seja suficientemente simples para generalizar bem e suficientemente complexo para capturar os padrões nos dados."
   ],
   "id": "a25424da7dd59c86"
  }
 ],
 "metadata": {
  "kernelspec": {
   "display_name": "Python 3",
   "language": "python",
   "name": "python3"
  },
  "language_info": {
   "codemirror_mode": {
    "name": "ipython",
    "version": 2
   },
   "file_extension": ".py",
   "mimetype": "text/x-python",
   "name": "python",
   "nbconvert_exporter": "python",
   "pygments_lexer": "ipython2",
   "version": "2.7.6"
  }
 },
 "nbformat": 4,
 "nbformat_minor": 5
}
